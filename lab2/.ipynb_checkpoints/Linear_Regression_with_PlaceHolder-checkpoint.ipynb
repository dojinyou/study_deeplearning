{
 "cells": [
  {
   "cell_type": "markdown",
   "metadata": {},
   "source": [
    "# linear regression with Placeholder"
   ]
  },
  {
   "cell_type": "code",
   "execution_count": 2,
   "metadata": {},
   "outputs": [],
   "source": [
    "import tensorflow as tf"
   ]
  },
  {
   "cell_type": "code",
   "execution_count": 3,
   "metadata": {},
   "outputs": [],
   "source": [
    "# Try to find values for W and b to compute Y = W * X + b\n",
    "W = tf.Variable(tf.random_normal([1]), name=\"weight\")\n",
    "b = tf.Variable(tf.random_normal([1]), name=\"bias\")"
   ]
  },
  {
   "cell_type": "code",
   "execution_count": 4,
   "metadata": {},
   "outputs": [],
   "source": [
    "# plcaeholder for a tensor that will be always fed using fedd_dict\n",
    "# See http://stackoverflow.com/questions/36693740/\n",
    "X = tf.placeholder(tf.float32, shape = [None])\n",
    "Y = tf.placeholder(tf.float32, shape = [None])"
   ]
  },
  {
   "cell_type": "code",
   "execution_count": 5,
   "metadata": {},
   "outputs": [],
   "source": [
    "# Our hypothesis is WX+b\n",
    "hypothesis = W * X + b"
   ]
  },
  {
   "cell_type": "code",
   "execution_count": 6,
   "metadata": {},
   "outputs": [],
   "source": [
    "# cost/loss function\n",
    "cost = tf.reduce_mean(tf.square(hypothesis - Y))"
   ]
  },
  {
   "cell_type": "code",
   "execution_count": 7,
   "metadata": {},
   "outputs": [],
   "source": [
    "#optimizer\n",
    "train = tf.train.GradientDescentOptimizer(learning_rate = 1e-2).minimize(cost)"
   ]
  },
  {
   "cell_type": "code",
   "execution_count": 9,
   "metadata": {},
   "outputs": [
    {
     "name": "stdout",
     "output_type": "stream",
     "text": [
      "0 8.157527 [-0.0475009] [-0.29605365]\n",
      "200 0.001048732 [0.9624783] [0.08529577]\n",
      "400 0.0004004567 [0.9768139] [0.05270751]\n",
      "600 0.00015291244 [0.9856724] [0.03257001]\n",
      "800 5.838854e-05 [0.9911465] [0.02012616]\n",
      "1000 2.2296284e-05 [0.994529] [0.01243674]\n",
      "1200 8.513757e-06 [0.9966192] [0.00768522]\n",
      "1400 3.2511807e-06 [0.9979108] [0.00474916]\n",
      "1600 1.2415404e-06 [0.99870896] [0.00293478]\n",
      "1800 4.7416788e-07 [0.9992021] [0.00181369]\n",
      "2000 1.8116718e-07 [0.9995068] [0.00112106]\n",
      "[4.998655]\n",
      "[2.499888]\n",
      "[1.5003812 3.4993947]\n"
     ]
    }
   ],
   "source": [
    "# Launch the graph in a session.\n",
    "with tf.Session() as sess:\n",
    "    # Initializes global variables in the graph.\n",
    "    sess.run(tf.global_variables_initializer())\n",
    "\n",
    "    # Fit the line\n",
    "    for step in range(2001):\n",
    "        _, cost_val, W_val, b_val = sess.run(\n",
    "            [train, cost, W, b], feed_dict={X: [1, 2, 3], Y: [1, 2, 3]}\n",
    "        )\n",
    "        if step % 200 == 0:\n",
    "            print(step, cost_val, W_val, b_val)\n",
    "\n",
    "    # Testing our model\n",
    "    print(sess.run(hypothesis, feed_dict={X: [5]}))\n",
    "    print(sess.run(hypothesis, feed_dict={X: [2.5]}))\n",
    "    print(sess.run(hypothesis, feed_dict={X: [1.5, 3.5]}))\n",
    "\n",
    "    # Learns best fit W:[ 1.],  b:[ 0]"
   ]
  }
 ],
 "metadata": {
  "kernelspec": {
   "display_name": "Python 3",
   "language": "python",
   "name": "python3"
  },
  "language_info": {
   "codemirror_mode": {
    "name": "ipython",
    "version": 3
   },
   "file_extension": ".py",
   "mimetype": "text/x-python",
   "name": "python",
   "nbconvert_exporter": "python",
   "pygments_lexer": "ipython3",
   "version": "3.7.3"
  }
 },
 "nbformat": 4,
 "nbformat_minor": 2
}
