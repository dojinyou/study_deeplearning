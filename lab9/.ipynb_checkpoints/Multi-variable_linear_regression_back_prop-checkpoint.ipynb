{
 "cells": [
  {
   "cell_type": "markdown",
   "metadata": {},
   "source": [
    "# lab 9 Multi-variable linear regression Back propagation"
   ]
  },
  {
   "cell_type": "code",
   "execution_count": 1,
   "metadata": {},
   "outputs": [],
   "source": [
    "import tensorflow as tf"
   ]
  },
  {
   "cell_type": "code",
   "execution_count": 3,
   "metadata": {},
   "outputs": [],
   "source": [
    "# X and Y data\n",
    "x_data = [[73., 80., 75.],\n",
    "          [93., 88., 93.],\n",
    "          [89., 91., 90.],\n",
    "          [96., 98., 100.],\n",
    "          [73., 66., 70.]]\n",
    "y_data = [[152.],\n",
    "          [185.],\n",
    "          [180.],\n",
    "          [196.],\n",
    "          [142.]]"
   ]
  },
  {
   "cell_type": "code",
   "execution_count": 4,
   "metadata": {},
   "outputs": [],
   "source": [
    "# placeholders for a tensor that will be always fed.\n",
    "X = tf.placeholder(tf.float32, shape=[None, 3])\n",
    "Y = tf.placeholder(tf.float32, shape=[None, 1])"
   ]
  },
  {
   "cell_type": "code",
   "execution_count": 5,
   "metadata": {},
   "outputs": [],
   "source": [
    "# Set wrong model weights\n",
    "W = tf.Variable(tf.truncated_normal([3, 1]))\n",
    "b = tf.Variable(5.)"
   ]
  },
  {
   "cell_type": "code",
   "execution_count": 6,
   "metadata": {},
   "outputs": [],
   "source": [
    "# Forward prop\n",
    "hypothesis = tf.matmul(X, W) + b"
   ]
  },
  {
   "cell_type": "code",
   "execution_count": 7,
   "metadata": {},
   "outputs": [],
   "source": [
    "# diff\n",
    "assert hypothesis.shape.as_list() == Y.shape.as_list()\n",
    "diff = (hypothesis - Y)"
   ]
  },
  {
   "cell_type": "code",
   "execution_count": 8,
   "metadata": {},
   "outputs": [],
   "source": [
    "# Back prop (chain rule)\n",
    "d_l1 = diff\n",
    "d_b = d_l1\n",
    "d_w = tf.matmul(tf.transpose(X), d_l1)"
   ]
  },
  {
   "cell_type": "code",
   "execution_count": 9,
   "metadata": {},
   "outputs": [],
   "source": [
    "# Updating network using gradients\n",
    "learning_rate = 1e-6\n",
    "step = [\n",
    "    tf.assign(W, W - learning_rate * d_w),\n",
    "    tf.assign(b, b - learning_rate * tf.reduce_mean(d_b)),\n",
    "]"
   ]
  },
  {
   "cell_type": "code",
   "execution_count": 10,
   "metadata": {},
   "outputs": [
    {
     "name": "stdout",
     "output_type": "stream",
     "text": [
      "0 [array([[-1.3253145],\n",
      "       [ 0.4193655],\n",
      "       [-1.2598903]], dtype=float32), 5.0003943] 157702.72\n",
      "2000 [array([[0.16827042],\n",
      "       [1.6278183 ],\n",
      "       [0.16344802]], dtype=float32), 5.003585] 27.655115\n",
      "4000 [array([[0.27540135],\n",
      "       [1.4873345 ],\n",
      "       [0.19627918]], dtype=float32), 5.003585] 21.185997\n",
      "6000 [array([[0.36857274],\n",
      "       [1.3644608 ],\n",
      "       [0.22551903]], dtype=float32), 5.003585] 16.250767\n",
      "8000 [array([[0.44955856],\n",
      "       [1.2569675 ],\n",
      "       [0.25161588]], dtype=float32), 5.003585] 12.4852705\n",
      "[[156.61188]\n",
      " [181.2621 ]\n",
      " [181.8466 ]\n",
      " [196.3759 ]\n",
      " [138.9558 ]]\n"
     ]
    }
   ],
   "source": [
    "# 7. Running and testing the training process\n",
    "RMSE = tf.reduce_mean(tf.square((Y - hypothesis)))\n",
    "\n",
    "sess = tf.InteractiveSession()\n",
    "sess.run(tf.global_variables_initializer())\n",
    "\n",
    "for i in range(10000):\n",
    "    step_val, RMSE_val = sess.run([step, RMSE], feed_dict={X: x_data, Y: y_data})\n",
    "    if i % 2000 == 0:\n",
    "        print(i, step_val, RMSE_val)\n",
    "        \n",
    "print(sess.run(hypothesis, feed_dict={X: x_data}))"
   ]
  }
 ],
 "metadata": {
  "kernelspec": {
   "display_name": "Python 3",
   "language": "python",
   "name": "python3"
  },
  "language_info": {
   "codemirror_mode": {
    "name": "ipython",
    "version": 3
   },
   "file_extension": ".py",
   "mimetype": "text/x-python",
   "name": "python",
   "nbconvert_exporter": "python",
   "pygments_lexer": "ipython3",
   "version": "3.7.3"
  }
 },
 "nbformat": 4,
 "nbformat_minor": 2
}
