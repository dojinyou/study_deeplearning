{
 "cells": [
  {
   "cell_type": "markdown",
   "metadata": {},
   "source": [
    "# Lab 9 Back propagation for linear regression"
   ]
  },
  {
   "cell_type": "code",
   "execution_count": 1,
   "metadata": {},
   "outputs": [],
   "source": [
    "import tensorflow as tf"
   ]
  },
  {
   "cell_type": "code",
   "execution_count": 2,
   "metadata": {},
   "outputs": [],
   "source": [
    "# X and Y data\n",
    "x_data = [[1.],\n",
    "          [2.],\n",
    "          [3.]]\n",
    "y_data = [[1.],\n",
    "          [2.],\n",
    "          [3.]]"
   ]
  },
  {
   "cell_type": "code",
   "execution_count": 3,
   "metadata": {},
   "outputs": [],
   "source": [
    "# placeholders for a tensor that will be always fed.\n",
    "X = tf.placeholder(tf.float32, shape=[None, 1])\n",
    "Y = tf.placeholder(tf.float32, shape=[None, 1])"
   ]
  },
  {
   "cell_type": "code",
   "execution_count": 4,
   "metadata": {},
   "outputs": [],
   "source": [
    "# Set wrong model weights\n",
    "W = tf.Variable(tf.truncated_normal([1, 1]))\n",
    "b = tf.Variable(5.)"
   ]
  },
  {
   "cell_type": "code",
   "execution_count": 5,
   "metadata": {},
   "outputs": [],
   "source": [
    "# Forward prop\n",
    "hypothesis = tf.matmul(X, W) + b"
   ]
  },
  {
   "cell_type": "code",
   "execution_count": 6,
   "metadata": {},
   "outputs": [],
   "source": [
    "# diff\n",
    "assert hypothesis.shape.as_list() == Y.shape.as_list()\n",
    "diff = (hypothesis - Y)"
   ]
  },
  {
   "cell_type": "code",
   "execution_count": 7,
   "metadata": {},
   "outputs": [
    {
     "name": "stdout",
     "output_type": "stream",
     "text": [
      "Tensor(\"Placeholder:0\", shape=(?, 1), dtype=float32) <tf.Variable 'Variable:0' shape=(1, 1) dtype=float32_ref> Tensor(\"sub:0\", shape=(?, 1), dtype=float32) Tensor(\"MatMul_1:0\", shape=(1, 1), dtype=float32)\n"
     ]
    }
   ],
   "source": [
    "# Back prop (chain rule)\n",
    "d_l1 = diff\n",
    "d_b = d_l1\n",
    "d_w = tf.matmul(tf.transpose(X), d_l1)\n",
    "\n",
    "print(X, W, d_l1, d_w)"
   ]
  },
  {
   "cell_type": "code",
   "execution_count": 8,
   "metadata": {},
   "outputs": [],
   "source": [
    "# Updating network using gradients\n",
    "learning_rate = 0.1\n",
    "step = [\n",
    "    tf.assign(W, W - learning_rate * d_w),\n",
    "    tf.assign(b, b - learning_rate * tf.reduce_mean(d_b)),\n",
    "]"
   ]
  },
  {
   "cell_type": "code",
   "execution_count": 9,
   "metadata": {},
   "outputs": [
    {
     "name": "stdout",
     "output_type": "stream",
     "text": [
      "0 [array([[-1.6495019]], dtype=float32), 4.675249] 11.058192\n",
      "200 [array([[0.86281145]], dtype=float32), 0.31703046] 0.014760953\n",
      "400 [array([[0.9908633]], dtype=float32), 0.021113878] 6.547124e-05\n",
      "600 [array([[0.99939156]], dtype=float32), 0.0014061683] 2.9043107e-07\n",
      "800 [array([[0.9999595]], dtype=float32), 9.363418e-05] 1.2895734e-09\n",
      "[[1.0000036]\n",
      " [2.0000007]\n",
      " [2.999998 ]]\n"
     ]
    }
   ],
   "source": [
    "# 7. Running and testing the training process\n",
    "RMSE = tf.reduce_mean(tf.square((Y - hypothesis)))\n",
    "\n",
    "sess = tf.InteractiveSession()\n",
    "sess.run(tf.global_variables_initializer())\n",
    "\n",
    "for i in range(1000):\n",
    "    step_val, RMSE_val = sess.run([step, RMSE], feed_dict={X: x_data, Y: y_data})\n",
    "    if i % 200 == 0:\n",
    "        print(i, step_val, RMSE_val)\n",
    "\n",
    "print(sess.run(hypothesis, feed_dict={X: x_data}))"
   ]
  }
 ],
 "metadata": {
  "kernelspec": {
   "display_name": "Python 3",
   "language": "python",
   "name": "python3"
  },
  "language_info": {
   "codemirror_mode": {
    "name": "ipython",
    "version": 3
   },
   "file_extension": ".py",
   "mimetype": "text/x-python",
   "name": "python",
   "nbconvert_exporter": "python",
   "pygments_lexer": "ipython3",
   "version": "3.7.3"
  }
 },
 "nbformat": 4,
 "nbformat_minor": 2
}
