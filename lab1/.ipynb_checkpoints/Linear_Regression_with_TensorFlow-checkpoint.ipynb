{
 "cells": [
  {
   "cell_type": "markdown",
   "metadata": {},
   "source": [
    "## TensorFlow로 간단한 linear regression 구현"
   ]
  },
  {
   "cell_type": "markdown",
   "metadata": {},
   "source": [
    "**1. Build graph using TF operations**"
   ]
  },
  {
   "cell_type": "code",
   "execution_count": 2,
   "metadata": {},
   "outputs": [],
   "source": [
    "import tensorflow as tf"
   ]
  },
  {
   "cell_type": "code",
   "execution_count": 3,
   "metadata": {},
   "outputs": [],
   "source": [
    "# H(x) = Wx+b\n",
    "\n",
    "# X and Y data\n",
    "x_train = [1, 2, 3]\n",
    "y_train = [1, 2, 3]\n",
    "\n",
    "W = tf.Variable(tf.random_normal([1]), name='weight')\n",
    "b = tf.Variable(tf.random_normal([1]), name='bias')\n",
    "\n",
    "# Our hypothesis XW+b\n",
    "hypothesis = W* x_train + b"
   ]
  },
  {
   "cell_type": "code",
   "execution_count": 4,
   "metadata": {},
   "outputs": [],
   "source": [
    "# cost/Loss function\n",
    "cost = tf.reduce_mean(tf.square(hypothesis - y_train))"
   ]
  },
  {
   "cell_type": "code",
   "execution_count": 5,
   "metadata": {},
   "outputs": [],
   "source": [
    "# reduce_mean => 평균내주는 것.\n",
    "# t = [1., 2., 3., 4.]\n",
    "# tf.reduce_mean(t) ==> 2.5"
   ]
  },
  {
   "cell_type": "code",
   "execution_count": 6,
   "metadata": {},
   "outputs": [],
   "source": [
    "# GradientDescent\n",
    "# Minimize\n",
    "optimizer = tf.train.GradientDescentOptimizer(learning_rate = 0.01)\n",
    "train = optimizer.minimize(cost)"
   ]
  },
  {
   "cell_type": "markdown",
   "metadata": {},
   "source": [
    "**2. Run/update graph and get results**"
   ]
  },
  {
   "cell_type": "code",
   "execution_count": 7,
   "metadata": {},
   "outputs": [
    {
     "name": "stdout",
     "output_type": "stream",
     "text": [
      "0 15.342792 [-0.74044687] [-0.16922316]\n",
      "200 0.013678405 [0.8641644] [0.30878624]\n",
      "400 0.0052230763 [0.9160619] [0.19081108]\n",
      "600 0.0019944338 [0.94813126] [0.11790974]\n",
      "800 0.00076157245 [0.9679483] [0.07286102]\n",
      "1000 0.00029080757 [0.980194] [0.04502387]\n",
      "1200 0.00011104333 [0.9877611] [0.02782197]\n",
      "1400 4.2402604e-05 [0.99243706] [0.01719237]\n",
      "1600 1.6191063e-05 [0.9953266] [0.01062387]\n",
      "1800 6.182652e-06 [0.9971121] [0.0065649]\n",
      "2000 2.3608306e-06 [0.99821544] [0.00405671]\n"
     ]
    }
   ],
   "source": [
    "# Launch the graph in a session\n",
    "sess = tf.Session()\n",
    "# Initializes gloval variables in the graph.\n",
    "sess.run(tf.global_variables_initializer())\n",
    "\n",
    "# fit the line\n",
    "for step in range(2001):\n",
    "    sess.run(train)\n",
    "    if step % 200 == 0:\n",
    "        print(step, sess.run(cost), sess.run(W), sess.run(b))"
   ]
  },
  {
   "cell_type": "code",
   "execution_count": 9,
   "metadata": {},
   "outputs": [
    {
     "name": "stdout",
     "output_type": "stream",
     "text": [
      "0 1.5611572e-10 [0.9999855] [3.3023312e-05]\n",
      "200 6.194156e-11 [0.99999094] [2.0572314e-05]\n",
      "400 2.5622171e-11 [0.9999939] [1.3462676e-05]\n",
      "600 1.2989905e-11 [0.99999565] [9.411551e-06]\n",
      "800 7.504515e-12 [0.99999666] [7.110812e-06]\n",
      "1000 5.272227e-12 [0.9999972] [5.8014957e-06]\n",
      "1200 4.192202e-12 [0.99999756] [5.0544413e-06]\n",
      "1400 3.3359981e-12 [0.9999977] [4.6554965e-06]\n",
      "1600 3.155994e-12 [0.99999774] [4.473491e-06]\n",
      "1800 3.155994e-12 [0.99999774] [4.4703115e-06]\n",
      "2000 3.155994e-12 [0.99999774] [4.4703115e-06]\n"
     ]
    }
   ],
   "source": [
    "# linear regression with Placeholder\n",
    "# X and Y data\n",
    "x_train = [1, 2, 3]\n",
    "y_train = [1, 2, 3]\n",
    "\n",
    "# Now we can use X and Y in place\n",
    "# # plcaeholder for a tensor that will be always fed using fedd_dict\n",
    "# See http://stackoverflow.com/questions/36693740/\n",
    "\n",
    "X = tf.placeholder(tf.float32)\n",
    "Y = tf.placeholder(tf.float32)\n",
    "\n",
    "# fit the line\n",
    "for step in range(2001):\n",
    "    cost_val, W_val, b_val, _ = sess.run(\n",
    "        [cost, W, b, train], feed_dict={X:[1,2,3], Y:[1,2,3]}\n",
    "    )\n",
    "    \n",
    "    if step % 200 == 0:\n",
    "        print(step, cost_val, W_val, b_val)"
   ]
  },
  {
   "cell_type": "code",
   "execution_count": 10,
   "metadata": {},
   "outputs": [
    {
     "name": "stdout",
     "output_type": "stream",
     "text": [
      "[1.0000021 1.9999999 2.9999979]\n",
      "[1.0000021 1.9999999 2.9999979]\n",
      "[1.0000021 1.9999999 2.9999979]\n"
     ]
    }
   ],
   "source": [
    "# Testing our model\n",
    "print(sess.run(hypothesis, feed_dict={X:[5]}))\n",
    "print(sess.run(hypothesis, feed_dict={X:[2.5]}))\n",
    "print(sess.run(hypothesis, \n",
    "               feed_dict={X:[1.5, 3.5]}))"
   ]
  },
  {
   "cell_type": "code",
   "execution_count": 11,
   "metadata": {},
   "outputs": [],
   "source": [
    "# X and Y data\n",
    "x_train = [10, 8, 5, 3, 1]\n",
    "y_train = [100, 80, 50, 30, 10]\n",
    "\n",
    "W = tf.Variable(tf.random_normal([1]), name='weight')\n",
    "b = tf.Variable(tf.random_normal([1]), name='bias')\n",
    "# Our hypothesis Wx+b\n",
    "hypothesis = W * x_train + b\n",
    "\n",
    "# cost/loss function\n",
    "cost = tf.reduce_mean(tf.square(hypothesis - y_train))"
   ]
  },
  {
   "cell_type": "code",
   "execution_count": 12,
   "metadata": {},
   "outputs": [],
   "source": [
    "# Minimize\n",
    "optimizer = tf.train.GradientDescentOptimizer(learning_rate=0.01)\n",
    "train = optimizer.minimize(cost)"
   ]
  },
  {
   "cell_type": "code",
   "execution_count": 13,
   "metadata": {},
   "outputs": [
    {
     "name": "stdout",
     "output_type": "stream",
     "text": [
      "0\t 198.519058\t [7.5189342]\t [1.8642154]\n",
      "200\t 0.152332\t [9.896909]\t [0.7548146]\n",
      "400\t 0.018555\t [9.964021]\t [0.2634373]\n",
      "600\t 0.002260\t [9.987442]\t [0.09194215]\n",
      "800\t 0.000275\t [9.995617]\t [0.03208898]\n",
      "1000\t 0.000034\t [9.99847]\t [0.0111991]\n",
      "1200\t 0.000004\t [9.999466]\t [0.0039092]\n",
      "1400\t 0.000000\t [9.999813]\t [0.00136503]\n",
      "1600\t 0.000000\t [9.999934]\t [0.00047637]\n",
      "1800\t 0.000000\t [9.999977]\t [0.00016649]\n",
      "2000\t 0.000000\t [9.999991]\t [5.9694652e-05]\n"
     ]
    }
   ],
   "source": [
    "# Launch the graph in a session\n",
    "sess = tf.Session()\n",
    "# Initializes gloval variables in the graph.\n",
    "sess.run(tf.global_variables_initializer())\n",
    "\n",
    "# Fit the line\n",
    "for step in range(2001):\n",
    "   sess.run(train)\n",
    "   if step % 200 == 0:\n",
    "       print(f\"{step}\\t {sess.run(cost):3f}\\t {sess.run(W)}\\t {sess.run(b)}\")"
   ]
  }
 ],
 "metadata": {
  "kernelspec": {
   "display_name": "Python 3",
   "language": "python",
   "name": "python3"
  },
  "language_info": {
   "codemirror_mode": {
    "name": "ipython",
    "version": 3
   },
   "file_extension": ".py",
   "mimetype": "text/x-python",
   "name": "python",
   "nbconvert_exporter": "python",
   "pygments_lexer": "ipython3",
   "version": "3.7.3"
  }
 },
 "nbformat": 4,
 "nbformat_minor": 2
}
