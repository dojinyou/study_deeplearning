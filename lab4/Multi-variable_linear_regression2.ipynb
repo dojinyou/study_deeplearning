{
 "cells": [
  {
   "cell_type": "markdown",
   "metadata": {},
   "source": [
    "# Lab 4 Multi-variable linear regression"
   ]
  },
  {
   "cell_type": "code",
   "execution_count": 1,
   "metadata": {},
   "outputs": [],
   "source": [
    "import tensorflow as tf"
   ]
  },
  {
   "cell_type": "code",
   "execution_count": 2,
   "metadata": {},
   "outputs": [],
   "source": [
    "# X and Y data\n",
    "x_data = [[73., 80., 75.],\n",
    "          [93., 88., 93.],\n",
    "          [89., 91., 90.],\n",
    "          [96., 98., 100.],\n",
    "          [73., 66., 70.]]\n",
    "y_data = [[152.],\n",
    "          [185.],\n",
    "          [180.],\n",
    "          [196.],\n",
    "          [142.]]"
   ]
  },
  {
   "cell_type": "code",
   "execution_count": 3,
   "metadata": {},
   "outputs": [],
   "source": [
    "# placeholders for a tensor that will be always fed.\n",
    "X = tf.placeholder(tf.float32, shape=[None, 3])\n",
    "Y = tf.placeholder(tf.float32, shape=[None, 1])\n",
    "\n",
    "W = tf.Variable(tf.random_normal([3, 1]), name='weight')\n",
    "b = tf.Variable(tf.random_normal([1]), name='bias')"
   ]
  },
  {
   "cell_type": "code",
   "execution_count": 4,
   "metadata": {},
   "outputs": [],
   "source": [
    "# Hypothesis\n",
    "hypothesis = tf.matmul(X, W) + b"
   ]
  },
  {
   "cell_type": "code",
   "execution_count": 5,
   "metadata": {},
   "outputs": [],
   "source": [
    "# Simplified cost/loss function\n",
    "cost = tf.reduce_mean(tf.square(hypothesis - Y))"
   ]
  },
  {
   "cell_type": "code",
   "execution_count": 7,
   "metadata": {},
   "outputs": [],
   "source": [
    "# Minimize\n",
    "optimizer = tf.train.GradientDescentOptimizer(learning_rate=1e-5)\n",
    "train = optimizer.minimize(cost)"
   ]
  },
  {
   "cell_type": "code",
   "execution_count": 11,
   "metadata": {},
   "outputs": [
    {
     "name": "stdout",
     "output_type": "stream",
     "text": [
      "0 Cost:  8313.457 \n",
      "Prediction:\n",
      " [[72.0223  ]\n",
      " [86.254234]\n",
      " [85.01196 ]\n",
      " [94.00806 ]\n",
      " [64.572334]]\n",
      "200 Cost:  3.6998734 \n",
      "Prediction:\n",
      " [[152.78683]\n",
      " [183.552  ]\n",
      " [180.765  ]\n",
      " [198.28316]\n",
      " [138.84001]]\n",
      "400 Cost:  3.4446225 \n",
      "Prediction:\n",
      " [[152.67474]\n",
      " [183.62991]\n",
      " [180.732  ]\n",
      " [198.24901]\n",
      " [138.95093]]\n",
      "600 Cost:  3.2145545 \n",
      "Prediction:\n",
      " [[152.56879]\n",
      " [183.70358]\n",
      " [180.70084]\n",
      " [198.21623]\n",
      " [139.05624]]\n",
      "800 Cost:  3.0070727 \n",
      "Prediction:\n",
      " [[152.46866]\n",
      " [183.77325]\n",
      " [180.67148]\n",
      " [198.18478]\n",
      " [139.1563 ]]\n",
      "1000 Cost:  2.8198822 \n",
      "Prediction:\n",
      " [[152.37404]\n",
      " [183.83916]\n",
      " [180.64378]\n",
      " [198.15462]\n",
      " [139.25134]]\n",
      "1200 Cost:  2.6509285 \n",
      "Prediction:\n",
      " [[152.28462]\n",
      " [183.90147]\n",
      " [180.61768]\n",
      " [198.12566]\n",
      " [139.34163]]\n",
      "1400 Cost:  2.4982944 \n",
      "Prediction:\n",
      " [[152.20015]\n",
      " [183.9604 ]\n",
      " [180.59308]\n",
      " [198.09782]\n",
      " [139.42744]]\n",
      "1600 Cost:  2.3603432 \n",
      "Prediction:\n",
      " [[152.12035]\n",
      " [184.01613]\n",
      " [180.56993]\n",
      " [198.07109]\n",
      " [139.50902]]\n",
      "1800 Cost:  2.235588 \n",
      "Prediction:\n",
      " [[152.04495]\n",
      " [184.06879]\n",
      " [180.5481 ]\n",
      " [198.04535]\n",
      " [139.58652]]\n",
      "2000 Cost:  2.1226315 \n",
      "Prediction:\n",
      " [[151.97379]\n",
      " [184.11859]\n",
      " [180.52756]\n",
      " [198.02058]\n",
      " [139.66023]]\n"
     ]
    }
   ],
   "source": [
    "# Launch the graph in a session\n",
    "with tf.Session() as sess:\n",
    "    # Initializes global variables in the graph.\n",
    "    sess.run(tf.global_variables_initializer())\n",
    "\n",
    "    for step in range(2001):\n",
    "        cost_val, hy_val, _ = sess.run(\n",
    "            [cost, hypothesis, train], feed_dict={X: x_data, Y: y_data})\n",
    "        if step % 200 == 0:\n",
    "            print(step, \"Cost: \", cost_val, \"\\nPrediction:\\n\", hy_val)"
   ]
  },
  {
   "cell_type": "code",
   "execution_count": null,
   "metadata": {},
   "outputs": [],
   "source": []
  }
 ],
 "metadata": {
  "kernelspec": {
   "display_name": "Python 3",
   "language": "python",
   "name": "python3"
  },
  "language_info": {
   "codemirror_mode": {
    "name": "ipython",
    "version": 3
   },
   "file_extension": ".py",
   "mimetype": "text/x-python",
   "name": "python",
   "nbconvert_exporter": "python",
   "pygments_lexer": "ipython3",
   "version": "3.7.3"
  }
 },
 "nbformat": 4,
 "nbformat_minor": 2
}
