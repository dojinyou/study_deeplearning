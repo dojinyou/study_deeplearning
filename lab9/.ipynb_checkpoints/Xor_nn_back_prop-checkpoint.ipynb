{
 "cells": [
  {
   "cell_type": "markdown",
   "metadata": {},
   "source": [
    "# Lab 9 XOR back propagation"
   ]
  },
  {
   "cell_type": "code",
   "execution_count": 1,
   "metadata": {},
   "outputs": [],
   "source": [
    "import tensorflow as tf\n",
    "import numpy as np"
   ]
  },
  {
   "cell_type": "code",
   "execution_count": 2,
   "metadata": {},
   "outputs": [],
   "source": [
    "tf.set_random_seed(777)  # for reproducibility\n",
    "learning_rate = 0.1\n",
    "\n",
    "x_data = [[0, 0],\n",
    "          [0, 1],\n",
    "          [1, 0],\n",
    "          [1, 1]]\n",
    "y_data = [[0],\n",
    "          [1],\n",
    "          [1],\n",
    "          [0]]"
   ]
  },
  {
   "cell_type": "code",
   "execution_count": 3,
   "metadata": {},
   "outputs": [],
   "source": [
    "x_data = np.array(x_data, dtype=np.float32)\n",
    "y_data = np.array(y_data, dtype=np.float32)\n",
    "\n",
    "X = tf.placeholder(tf.float32, [None, 2])\n",
    "Y = tf.placeholder(tf.float32, [None, 1])\n",
    "\n",
    "W1 = tf.Variable(tf.random_normal([2, 2]), name='weight1')\n",
    "b1 = tf.Variable(tf.random_normal([2]), name='bias1')\n",
    "l1 = tf.sigmoid(tf.matmul(X, W1) + b1)\n",
    "\n",
    "W2 = tf.Variable(tf.random_normal([2, 1]), name='weight2')\n",
    "b2 = tf.Variable(tf.random_normal([1]), name='bias2')\n",
    "Y_pred = tf.sigmoid(tf.matmul(l1, W2) + b2)"
   ]
  },
  {
   "cell_type": "code",
   "execution_count": 4,
   "metadata": {},
   "outputs": [],
   "source": [
    "# cost/loss function\n",
    "cost = -tf.reduce_mean(Y * tf.log(Y_pred) + (1 - Y) * tf.log(1 - Y_pred))"
   ]
  },
  {
   "cell_type": "code",
   "execution_count": 5,
   "metadata": {},
   "outputs": [],
   "source": [
    "# Loss derivative\n",
    "d_Y_pred = (Y_pred - Y) / (Y_pred * (1.0 - Y_pred) + 1e-7)"
   ]
  },
  {
   "cell_type": "code",
   "execution_count": 6,
   "metadata": {},
   "outputs": [],
   "source": [
    "# Layer 2\n",
    "d_sigma2 = Y_pred * (1 - Y_pred)\n",
    "d_a2 = d_Y_pred * d_sigma2\n",
    "d_p2 = d_a2\n",
    "d_b2 = d_a2\n",
    "d_W2 = tf.matmul(tf.transpose(l1), d_p2)"
   ]
  },
  {
   "cell_type": "code",
   "execution_count": 8,
   "metadata": {},
   "outputs": [],
   "source": [
    "# Mean\n",
    "d_b2_mean = tf.reduce_mean(d_b2, axis=[0])\n",
    "d_W2_mean = d_W2 / tf.cast(tf.shape(l1)[0], dtype=tf.float32)"
   ]
  },
  {
   "cell_type": "code",
   "execution_count": 9,
   "metadata": {},
   "outputs": [],
   "source": [
    "# Layer 1\n",
    "d_l1 = tf.matmul(d_p2, tf.transpose(W2))\n",
    "d_sigma1 = l1 * (1 - l1)\n",
    "d_a1 = d_l1 * d_sigma1\n",
    "d_b1 = d_a1\n",
    "d_p1 = d_a1\n",
    "d_W1 = tf.matmul(tf.transpose(X), d_a1)"
   ]
  },
  {
   "cell_type": "code",
   "execution_count": 10,
   "metadata": {},
   "outputs": [],
   "source": [
    "# Mean\n",
    "d_W1_mean = d_W1 / tf.cast(tf.shape(X)[0], dtype=tf.float32)\n",
    "d_b1_mean = tf.reduce_mean(d_b1, axis=[0])"
   ]
  },
  {
   "cell_type": "code",
   "execution_count": 11,
   "metadata": {},
   "outputs": [],
   "source": [
    "# Weight update\n",
    "step = [\n",
    "  tf.assign(W2, W2 - learning_rate * d_W2_mean),\n",
    "  tf.assign(b2, b2 - learning_rate * d_b2_mean),\n",
    "  tf.assign(W1, W1 - learning_rate * d_W1_mean),\n",
    "  tf.assign(b1, b1 - learning_rate * d_b1_mean)\n",
    "]"
   ]
  },
  {
   "cell_type": "code",
   "execution_count": 12,
   "metadata": {},
   "outputs": [],
   "source": [
    "# Accuracy computation\n",
    "# True if hypothesis > 0.5 else False\n",
    "predicted = tf.cast(Y_pred > 0.5, dtype=tf.float32)\n",
    "accuracy = tf.reduce_mean(tf.cast(tf.equal(predicted, Y), dtype=tf.float32))"
   ]
  },
  {
   "cell_type": "code",
   "execution_count": 17,
   "metadata": {},
   "outputs": [
    {
     "name": "stdout",
     "output_type": "stream",
     "text": [
      "0 0.75844026\n",
      "2000 0.53412914\n",
      "4000 0.07769789\n",
      "6000 0.03154495\n",
      "8000 0.019334849\n",
      "10000 0.013846559\n",
      "\n",
      "Hypothesis:\n",
      " [[0.01338197]\n",
      " [0.9816643 ]\n",
      " [0.9880943 ]\n",
      " [0.01135786]] \n",
      "Correct:\n",
      " [[0.]\n",
      " [1.]\n",
      " [1.]\n",
      " [0.]] \n",
      "Accuracy:  1.0\n"
     ]
    }
   ],
   "source": [
    "# Launch graph\n",
    "with tf.Session() as sess:\n",
    "    # Initialize TensorFlow variables\n",
    "    sess.run(tf.global_variables_initializer())\n",
    "\n",
    "    for i in range(10001):\n",
    "        _, cost_val = sess.run([step, cost], feed_dict={X: x_data, Y: y_data})\n",
    "        if i % 2000 == 0:\n",
    "            print(i, cost_val)\n",
    "\n",
    "    # Accuracy report\n",
    "    h, c, a = sess.run([Y_pred, predicted, accuracy],\n",
    "                       feed_dict={X: x_data, Y: y_data})\n",
    "    print(\"\\nHypothesis:\\n\", h, \"\\nCorrect:\\n\", c, \"\\nAccuracy: \", a)"
   ]
  },
  {
   "cell_type": "code",
   "execution_count": null,
   "metadata": {},
   "outputs": [],
   "source": []
  }
 ],
 "metadata": {
  "kernelspec": {
   "display_name": "Python 3",
   "language": "python",
   "name": "python3"
  },
  "language_info": {
   "codemirror_mode": {
    "name": "ipython",
    "version": 3
   },
   "file_extension": ".py",
   "mimetype": "text/x-python",
   "name": "python",
   "nbconvert_exporter": "python",
   "pygments_lexer": "ipython3",
   "version": "3.7.3"
  }
 },
 "nbformat": 4,
 "nbformat_minor": 2
}
