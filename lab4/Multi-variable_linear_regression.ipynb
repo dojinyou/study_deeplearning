{
 "cells": [
  {
   "cell_type": "markdown",
   "metadata": {},
   "source": [
    "# Lab 4 Multi-variable linear regression"
   ]
  },
  {
   "cell_type": "code",
   "execution_count": 1,
   "metadata": {},
   "outputs": [],
   "source": [
    "import tensorflow as tf"
   ]
  },
  {
   "cell_type": "code",
   "execution_count": 2,
   "metadata": {},
   "outputs": [],
   "source": [
    "# X and Y data\n",
    "x1_data = [73., 93., 89., 96., 73.]\n",
    "x2_data = [80., 88., 91., 98., 66.]\n",
    "x3_data = [75., 93., 90., 100., 70.]\n",
    "\n",
    "y_data = [152., 185., 180., 196., 142.]"
   ]
  },
  {
   "cell_type": "code",
   "execution_count": 6,
   "metadata": {},
   "outputs": [],
   "source": [
    "# placeholders for a tensor that will be always fed.\n",
    "x1 = tf.placeholder(tf.float32)\n",
    "x2 = tf.placeholder(tf.float32)\n",
    "x3 = tf.placeholder(tf.float32)\n",
    "\n",
    "Y = tf.placeholder(tf.float32)\n",
    "\n",
    "w1 = tf.Variable(tf.random_normal([1]), name='weight1')\n",
    "w2 = tf.Variable(tf.random_normal([1]), name='weight2')\n",
    "w3 = tf.Variable(tf.random_normal([1]), name='weight3')\n",
    "b = tf.Variable(tf.random_normal([1]), name='bias')"
   ]
  },
  {
   "cell_type": "code",
   "execution_count": 7,
   "metadata": {},
   "outputs": [],
   "source": [
    "hypothesis = x1 * w1 + x2 * w2 + x3 * w3 + b"
   ]
  },
  {
   "cell_type": "code",
   "execution_count": 8,
   "metadata": {},
   "outputs": [],
   "source": [
    "# cost/loss function\n",
    "cost = tf.reduce_mean(tf.square(hypothesis - Y))"
   ]
  },
  {
   "cell_type": "code",
   "execution_count": 20,
   "metadata": {},
   "outputs": [],
   "source": [
    "# Minimize. Need a very small learning rate for this data set\n",
    "optimizer = tf.train.GradientDescentOptimizer(learning_rate=1e-5)\n",
    "train = optimizer.minimize(cost)"
   ]
  },
  {
   "cell_type": "code",
   "execution_count": 22,
   "metadata": {},
   "outputs": [
    {
     "name": "stdout",
     "output_type": "stream",
     "text": [
      "0 Cost:  276777.8 \n",
      "Prediction:\n",
      " [-311.15854 -379.1439  -370.8442  -405.9398  -288.52756]\n",
      "200 Cost:  6.025833 \n",
      "Prediction:\n",
      " [155.4504  182.04654 181.91795 196.03102 139.58722]\n",
      "400 Cost:  5.4472003 \n",
      "Prediction:\n",
      " [155.26863 182.17064 181.86162 195.99524 139.74586]\n",
      "600 Cost:  4.927867 \n",
      "Prediction:\n",
      " [155.0964  182.28822 181.80821 195.96155 139.89601]\n",
      "800 Cost:  4.4616 \n",
      "Prediction:\n",
      " [154.93312 182.39966 181.75755 195.92982 140.03809]\n",
      "1000 Cost:  4.0429764 \n",
      "Prediction:\n",
      " [154.77835 182.50526 181.70947 195.89998 140.17253]\n",
      "1200 Cost:  3.6671462 \n",
      "Prediction:\n",
      " [154.63164 182.60533 181.6639  195.87189 140.29976]\n",
      "1400 Cost:  3.3296344 \n",
      "Prediction:\n",
      " [154.49255 182.70021 181.62065 195.84546 140.42015]\n",
      "1600 Cost:  3.0265737 \n",
      "Prediction:\n",
      " [154.3607  182.79012 181.5796  195.82062 140.53404]\n",
      "1800 Cost:  2.754427 \n",
      "Prediction:\n",
      " [154.2357  182.87532 181.5407  195.79727 140.64182]\n",
      "2000 Cost:  2.5099895 \n",
      "Prediction:\n",
      " [154.11717 182.95607 181.50375 195.77536 140.74376]\n"
     ]
    }
   ],
   "source": [
    "# Launch the graph in a session.\n",
    "with tf.Session() as sess:\n",
    "    # Initializes global variables in the graph.\n",
    "    sess.run(tf.global_variables_initializer())\n",
    "    for step in range(2001):\n",
    "        cost_val, hy_val, _ = sess.run([cost, hypothesis, train],\n",
    "                                       feed_dict={x1: x1_data, x2: x2_data, x3: x3_data, Y: y_data})\n",
    "        if step % 200 == 0:\n",
    "            print(step, \"Cost: \", cost_val, \"\\nPrediction:\\n\", hy_val)"
   ]
  }
 ],
 "metadata": {
  "kernelspec": {
   "display_name": "Python 3",
   "language": "python",
   "name": "python3"
  },
  "language_info": {
   "codemirror_mode": {
    "name": "ipython",
    "version": 3
   },
   "file_extension": ".py",
   "mimetype": "text/x-python",
   "name": "python",
   "nbconvert_exporter": "python",
   "pygments_lexer": "ipython3",
   "version": "3.7.3"
  }
 },
 "nbformat": 4,
 "nbformat_minor": 2
}
