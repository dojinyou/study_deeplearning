{
 "cells": [
  {
   "cell_type": "markdown",
   "metadata": {},
   "source": [
    "# lab 9 Logistic regression back propagtion"
   ]
  },
  {
   "cell_type": "code",
   "execution_count": 73,
   "metadata": {},
   "outputs": [],
   "source": [
    "import tensorflow as tf\n",
    "import numpy as np"
   ]
  },
  {
   "cell_type": "code",
   "execution_count": 74,
   "metadata": {},
   "outputs": [],
   "source": [
    "# Predicting animal type based on various features\n",
    "xy = np.loadtxt('data-04-zoo.csv', delimiter=',', dtype=np.float32)\n",
    "X_data = xy[:, 0:-1]\n",
    "N = X_data.shape[0]\n",
    "y_data = xy[:, [-1]]"
   ]
  },
  {
   "cell_type": "code",
   "execution_count": 75,
   "metadata": {},
   "outputs": [],
   "source": [
    "nb_classes = 7  # 0 ~ 6\n",
    "\n",
    "X = tf.placeholder(tf.float32, [None, 16])\n",
    "y = tf.placeholder(tf.int32, [None, 1])  # 0 ~ 6\n",
    "\n",
    "target = tf.one_hot(y, nb_classes)  # one hot\n",
    "target = tf.reshape(target, [-1, nb_classes])\n",
    "target = tf.cast(target, tf.float32)"
   ]
  },
  {
   "cell_type": "code",
   "execution_count": 76,
   "metadata": {},
   "outputs": [],
   "source": [
    "W = tf.Variable(tf.random_normal([16, nb_classes]), name='weight')\n",
    "b = tf.Variable(tf.random_normal([nb_classes]), name='bias')"
   ]
  },
  {
   "cell_type": "code",
   "execution_count": 77,
   "metadata": {},
   "outputs": [],
   "source": [
    "def sigma(x):\n",
    "    # sigmoid function\n",
    "    # σ(x) = 1 / (1 + exp(-x))\n",
    "    return 1. / (1. + tf.exp(-x))"
   ]
  },
  {
   "cell_type": "code",
   "execution_count": 78,
   "metadata": {},
   "outputs": [],
   "source": [
    "def sigma_prime(x):\n",
    "    # derivative of the sigmoid function\n",
    "    # σ'(x) = σ(x) * (1 - σ(x))\n",
    "    return sigma(x) * (1. - sigma(x))"
   ]
  },
  {
   "cell_type": "code",
   "execution_count": 79,
   "metadata": {},
   "outputs": [],
   "source": [
    "# Forward propagtion\n",
    "layer_1 = tf.matmul(X, W) + b\n",
    "y_pred = sigma(layer_1)"
   ]
  },
  {
   "cell_type": "code",
   "execution_count": 80,
   "metadata": {},
   "outputs": [],
   "source": [
    "# Loss Function (end of forwad propagation)\n",
    "loss_i = - target * tf.log(y_pred) - (1. - target) * tf.log(1. - y_pred)\n",
    "loss = tf.reduce_sum(loss_i)"
   ]
  },
  {
   "cell_type": "code",
   "execution_count": 81,
   "metadata": {},
   "outputs": [],
   "source": [
    "# Dimension Check\n",
    "assert y_pred.shape.as_list() == target.shape.as_list()"
   ]
  },
  {
   "cell_type": "code",
   "execution_count": 82,
   "metadata": {},
   "outputs": [],
   "source": [
    "# Back prop (chain rule)\n",
    "d_loss = (y_pred - target) / (y_pred * (1. - y_pred) + 1e-7)\n",
    "d_sigma = sigma_prime(layer_1)\n",
    "d_layer = d_loss * d_sigma\n",
    "d_b = d_layer\n",
    "d_W = tf.matmul(tf.transpose(X), d_layer)"
   ]
  },
  {
   "cell_type": "code",
   "execution_count": 83,
   "metadata": {},
   "outputs": [],
   "source": [
    "# Updating network using gradients\n",
    "learning_rate = 0.01\n",
    "train_step = [\n",
    "    tf.assign(W, W - learning_rate * d_W),\n",
    "    tf.assign(b, b - learning_rate * tf.reduce_mean(d_b)),\n",
    "]"
   ]
  },
  {
   "cell_type": "code",
   "execution_count": 84,
   "metadata": {},
   "outputs": [],
   "source": [
    "# Prediction and Accuracy\n",
    "prediction = tf.argmax(y_pred, 1)\n",
    "acct_mat = tf.equal(tf.argmax(y_pred, 1), tf.argmax(target, 1))\n",
    "acct_res = tf.reduce_mean(tf.cast(acct_mat, tf.float32))"
   ]
  },
  {
   "cell_type": "code",
   "execution_count": 85,
   "metadata": {},
   "outputs": [
    {
     "name": "stdout",
     "output_type": "stream",
     "text": [
      "Step:     0\t Loss:  348.84976\t Acc: 56.44%\n",
      "Step:   100\t Loss:   44.04060\t Acc: 95.05%\n",
      "Step:   200\t Loss:   27.60470\t Acc: 99.01%\n",
      "Step:   300\t Loss:   20.87599\t Acc: 100.00%\n",
      "Step:   400\t Loss:   17.00973\t Acc: 100.00%\n",
      "[True]\t Prediction: 0\t True y: 0\n",
      "[True]\t Prediction: 0\t True y: 0\n",
      "[True]\t Prediction: 3\t True y: 3\n",
      "[True]\t Prediction: 0\t True y: 0\n",
      "[True]\t Prediction: 0\t True y: 0\n",
      "[True]\t Prediction: 0\t True y: 0\n",
      "[True]\t Prediction: 0\t True y: 0\n",
      "[True]\t Prediction: 3\t True y: 3\n",
      "[True]\t Prediction: 3\t True y: 3\n",
      "[True]\t Prediction: 0\t True y: 0\n",
      "[True]\t Prediction: 0\t True y: 0\n",
      "[True]\t Prediction: 1\t True y: 1\n",
      "[True]\t Prediction: 3\t True y: 3\n",
      "[True]\t Prediction: 6\t True y: 6\n",
      "[True]\t Prediction: 6\t True y: 6\n",
      "[True]\t Prediction: 6\t True y: 6\n",
      "[True]\t Prediction: 1\t True y: 1\n",
      "[True]\t Prediction: 0\t True y: 0\n",
      "[True]\t Prediction: 3\t True y: 3\n",
      "[True]\t Prediction: 0\t True y: 0\n",
      "[True]\t Prediction: 1\t True y: 1\n",
      "[True]\t Prediction: 1\t True y: 1\n",
      "[True]\t Prediction: 0\t True y: 0\n",
      "[True]\t Prediction: 1\t True y: 1\n",
      "[True]\t Prediction: 5\t True y: 5\n",
      "[True]\t Prediction: 4\t True y: 4\n",
      "[True]\t Prediction: 4\t True y: 4\n",
      "[True]\t Prediction: 0\t True y: 0\n",
      "[True]\t Prediction: 0\t True y: 0\n",
      "[True]\t Prediction: 0\t True y: 0\n",
      "[True]\t Prediction: 5\t True y: 5\n",
      "[True]\t Prediction: 0\t True y: 0\n",
      "[True]\t Prediction: 0\t True y: 0\n",
      "[True]\t Prediction: 1\t True y: 1\n",
      "[True]\t Prediction: 3\t True y: 3\n",
      "[True]\t Prediction: 0\t True y: 0\n",
      "[True]\t Prediction: 0\t True y: 0\n",
      "[True]\t Prediction: 1\t True y: 1\n",
      "[True]\t Prediction: 3\t True y: 3\n",
      "[True]\t Prediction: 5\t True y: 5\n",
      "[True]\t Prediction: 5\t True y: 5\n",
      "[True]\t Prediction: 1\t True y: 1\n",
      "[True]\t Prediction: 5\t True y: 5\n",
      "[True]\t Prediction: 1\t True y: 1\n",
      "[True]\t Prediction: 0\t True y: 0\n",
      "[True]\t Prediction: 0\t True y: 0\n",
      "[True]\t Prediction: 6\t True y: 6\n",
      "[True]\t Prediction: 0\t True y: 0\n",
      "[True]\t Prediction: 0\t True y: 0\n",
      "[True]\t Prediction: 0\t True y: 0\n",
      "[True]\t Prediction: 0\t True y: 0\n",
      "[True]\t Prediction: 5\t True y: 5\n",
      "[True]\t Prediction: 4\t True y: 4\n",
      "[True]\t Prediction: 6\t True y: 6\n",
      "[True]\t Prediction: 0\t True y: 0\n",
      "[True]\t Prediction: 0\t True y: 0\n",
      "[True]\t Prediction: 1\t True y: 1\n",
      "[True]\t Prediction: 1\t True y: 1\n",
      "[True]\t Prediction: 1\t True y: 1\n",
      "[True]\t Prediction: 1\t True y: 1\n",
      "[True]\t Prediction: 3\t True y: 3\n",
      "[True]\t Prediction: 3\t True y: 3\n",
      "[True]\t Prediction: 2\t True y: 2\n",
      "[True]\t Prediction: 0\t True y: 0\n",
      "[True]\t Prediction: 0\t True y: 0\n",
      "[True]\t Prediction: 0\t True y: 0\n",
      "[True]\t Prediction: 0\t True y: 0\n",
      "[True]\t Prediction: 0\t True y: 0\n",
      "[True]\t Prediction: 0\t True y: 0\n",
      "[True]\t Prediction: 0\t True y: 0\n",
      "[True]\t Prediction: 0\t True y: 0\n",
      "[True]\t Prediction: 1\t True y: 1\n",
      "[True]\t Prediction: 6\t True y: 6\n",
      "[True]\t Prediction: 3\t True y: 3\n",
      "[True]\t Prediction: 0\t True y: 0\n",
      "[True]\t Prediction: 0\t True y: 0\n",
      "[True]\t Prediction: 2\t True y: 2\n",
      "[True]\t Prediction: 6\t True y: 6\n",
      "[True]\t Prediction: 1\t True y: 1\n",
      "[True]\t Prediction: 1\t True y: 1\n",
      "[True]\t Prediction: 2\t True y: 2\n",
      "[True]\t Prediction: 6\t True y: 6\n",
      "[True]\t Prediction: 3\t True y: 3\n",
      "[True]\t Prediction: 1\t True y: 1\n",
      "[True]\t Prediction: 0\t True y: 0\n",
      "[True]\t Prediction: 6\t True y: 6\n",
      "[True]\t Prediction: 3\t True y: 3\n",
      "[True]\t Prediction: 1\t True y: 1\n",
      "[True]\t Prediction: 5\t True y: 5\n",
      "[True]\t Prediction: 4\t True y: 4\n",
      "[True]\t Prediction: 2\t True y: 2\n",
      "[True]\t Prediction: 2\t True y: 2\n",
      "[True]\t Prediction: 3\t True y: 3\n",
      "[True]\t Prediction: 0\t True y: 0\n",
      "[True]\t Prediction: 0\t True y: 0\n",
      "[True]\t Prediction: 1\t True y: 1\n",
      "[True]\t Prediction: 0\t True y: 0\n",
      "[True]\t Prediction: 5\t True y: 5\n",
      "[True]\t Prediction: 0\t True y: 0\n",
      "[True]\t Prediction: 6\t True y: 6\n",
      "[True]\t Prediction: 1\t True y: 1\n"
     ]
    }
   ],
   "source": [
    "# Launch graph\n",
    "with tf.Session() as sess:\n",
    "    sess.run(tf.global_variables_initializer())\n",
    "\n",
    "    for step in range(500):\n",
    "        sess.run(train_step, feed_dict={X: X_data, y: y_data})\n",
    "\n",
    "        if step % 100 == 0:\n",
    "            # Within 300 steps, you should see an accuracy of 100%\n",
    "            step_loss, acc = sess.run([loss, acct_res], feed_dict={\n",
    "                                      X: X_data, y: y_data})\n",
    "            print(\"Step: {:5}\\t Loss: {:10.5f}\\t Acc: {:.2%}\" .format(\n",
    "                step, step_loss, acc))\n",
    "\n",
    "    # Let's see if we can predict\n",
    "    pred = sess.run(prediction, feed_dict={X: X_data})\n",
    "    for p, y in zip(pred, y_data):\n",
    "        msg = \"[{}]\\t Prediction: {:d}\\t True y: {:d}\"\n",
    "        print(msg.format(p == int(y[0]), p, int(y[0])))"
   ]
  },
  {
   "cell_type": "code",
   "execution_count": null,
   "metadata": {},
   "outputs": [],
   "source": []
  }
 ],
 "metadata": {
  "kernelspec": {
   "display_name": "Python 3",
   "language": "python",
   "name": "python3"
  },
  "language_info": {
   "codemirror_mode": {
    "name": "ipython",
    "version": 3
   },
   "file_extension": ".py",
   "mimetype": "text/x-python",
   "name": "python",
   "nbconvert_exporter": "python",
   "pygments_lexer": "ipython3",
   "version": "3.7.3"
  }
 },
 "nbformat": 4,
 "nbformat_minor": 2
}
